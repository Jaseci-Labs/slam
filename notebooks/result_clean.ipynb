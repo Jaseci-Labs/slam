{
 "cells": [
  {
   "cell_type": "code",
   "execution_count": 33,
   "metadata": {},
   "outputs": [],
   "source": [
    "import os\n",
    "import json\n",
    "\n",
    "CONFIG_DIR = \"../.human_eval_config\"\n",
    "RESDULTS_DIR = \"../results\""
   ]
  },
  {
   "cell_type": "code",
   "execution_count": 34,
   "metadata": {},
   "outputs": [],
   "source": [
    "import zipfile\n",
    "import datetime\n",
    "\n",
    "os.makedirs(\".backup\", exist_ok=True)\n",
    "current_time = datetime.datetime.now().strftime(\"%Y-%m-%d_%H-%M-%S\")\n",
    "\n",
    "# Backing up the Configs and Results\n",
    "with zipfile.ZipFile(os.path.join(\".backup\", f\"config_{current_time}\"), 'w', zipfile.ZIP_DEFLATED) as zipf:\n",
    "    for root, dirs, files in os.walk(CONFIG_DIR):\n",
    "        for file in files:\n",
    "            zipf.write(os.path.join(root, file))\n",
    "\n",
    "with zipfile.ZipFile(os.path.join(\".backup\", f\"results_{current_time}\"), 'w', zipfile.ZIP_DEFLATED) as zipf:\n",
    "    for root, dirs, files in os.walk(RESDULTS_DIR):\n",
    "        for file in files:\n",
    "            zipf.write(os.path.join(root, file))"
   ]
  },
  {
   "cell_type": "code",
   "execution_count": 35,
   "metadata": {},
   "outputs": [
    {
     "data": {
      "text/plain": [
       "'2024-02-15_09-21-37'"
      ]
     },
     "execution_count": 35,
     "metadata": {},
     "output_type": "execute_result"
    }
   ],
   "source": [
    "current_time"
   ]
  },
  {
   "cell_type": "code",
   "execution_count": 36,
   "metadata": {},
   "outputs": [],
   "source": [
    "with open(os.path.join(CONFIG_DIR, \"config.json\"), \"r\") as f:\n",
    "    config = json.load(f)"
   ]
  },
  {
   "cell_type": "code",
   "execution_count": 37,
   "metadata": {},
   "outputs": [],
   "source": [
    "results_files = [f for f in os.listdir(RESDULTS_DIR) if f.endswith(\".json\")]\n",
    "\n",
    "time_threshold = 180\n",
    "workers = []\n",
    "question_sets = []\n",
    "completed_question_sets = []\n",
    "incomplete_question_sets = []\n",
    "fast_question_sets = []\n",
    "for f in results_files:\n",
    "    with open(os.path.join(RESDULTS_DIR, f)) as file:\n",
    "        results = json.load(file)\n",
    "        workers.append(results[\"worker_id\"])\n",
    "        question_sets.append(results[\"question_set_id\"])\n",
    "        if results[\"question_index\"] == config[\"config\"][\"n_questions_per_worker\"]:\n",
    "            completed_question_sets.append(results[\"question_set_id\"])\n",
    "            time_taken = results[\"end_time\"] - results[\"start_time\"]\n",
    "            if time_taken < time_threshold:\n",
    "                fast_question_sets.append((results[\"question_set_id\"], f))\n",
    "        else:\n",
    "            incomplete_question_sets.append(results[\"question_set_id\"])\n",
    "        "
   ]
  },
  {
   "cell_type": "code",
   "execution_count": 38,
   "metadata": {},
   "outputs": [
    {
     "name": "stdout",
     "output_type": "stream",
     "text": [
      "Number of completed question sets: 249\n",
      "Number of incomplete question sets: 38\n",
      "Number of unique workers: 280\n",
      "Number of total workers: 298\n",
      "Number of question sets: 298\n",
      "Number of unique question sets: 251\n",
      "Number of fast question sets: 2\n"
     ]
    }
   ],
   "source": [
    "print(\"Number of completed question sets:\", len(set(completed_question_sets)))\n",
    "print(\"Number of incomplete question sets:\", len(set(incomplete_question_sets)))\n",
    "print(\"Number of unique workers:\", len(set(workers)))\n",
    "print(\"Number of total workers:\", len(workers))\n",
    "print(\"Number of question sets:\", len(question_sets))\n",
    "print(\"Number of unique question sets:\", len(set(question_sets)))\n",
    "print(\"Number of fast question sets:\", len(set(fast_question_sets)))"
   ]
  },
  {
   "cell_type": "code",
   "execution_count": 32,
   "metadata": {},
   "outputs": [
    {
     "data": {
      "text/plain": [
       "[('fb493c4a-f5f9-4c9b-8c08-d3916a0389d0',\n",
       "  '7786565_fb493c4a-f5f9-4c9b-8c08-d3916a0389d0.json'),\n",
       " ('1994e459-e8e0-4c9f-8440-6a5f5eebae76',\n",
       "  'ashish_1994e459-e8e0-4c9f-8440-6a5f5eebae76.json')]"
      ]
     },
     "execution_count": 32,
     "metadata": {},
     "output_type": "execute_result"
    }
   ],
   "source": [
    "fast_question_sets"
   ]
  },
  {
   "cell_type": "code",
   "execution_count": 7,
   "metadata": {},
   "outputs": [
    {
     "data": {
      "text/plain": [
       "{'5922cdc7-bcd2-45b0-8fb5-622d2a6c8130': [[0,\n",
       "   ['starling-lm_7b', 'gpt-4'],\n",
       "   ['240e27ae-509d-4ebd-a3ba-d29e2f9288b4',\n",
       "    '066c3de3-3054-4820-a0f7-8ed96890bedc']],\n",
       "  [0,\n",
       "   ['stablelm-zephyr_3b', 'openchat_7b-v3.5'],\n",
       "   ['da47e851-a76e-4e92-a084-de17160d33e7',\n",
       "    '46af108f-fba1-4245-9761-42faafe7a584']],\n",
       "  [1,\n",
       "   ['zephyr_7b-beta', 'stablelm-zephyr_3b'],\n",
       "   ['e91820a7-1622-4842-904c-025379aec601',\n",
       "    '6db270e5-c46e-41e4-9ad6-6fbac79ea48c']],\n",
       "  [1,\n",
       "   ['openchat_7b-v3.5', 'mistral_7b-instruct'],\n",
       "   ['7f7d0c04-0374-4afe-a996-e217d8b84140',\n",
       "    'cee099f4-37c1-48bd-a7c5-7ecc1dcc3cea']],\n",
       "  [2,\n",
       "   ['zephyr_7b-beta', 'gpt-4'],\n",
       "   ['8f71f142-a860-478f-a402-f48ce6fa1a26',\n",
       "    'fdee3455-9c8c-4d27-a912-4a7306ab776f']],\n",
       "  [2,\n",
       "   ['llama2_7b-chat', 'openchat_7b-v3.5'],\n",
       "   ['6e5bc153-1fde-41e0-8026-a0841b25e1a1',\n",
       "    '2a7894aa-5e1c-4328-ac1e-82991c293c2a']],\n",
       "  [3,\n",
       "   ['zephyr_7b-beta', 'openchat_7b-v3.5'],\n",
       "   ['5de27147-71e6-424c-bbe0-0275281d6d16',\n",
       "    '9d4dea3a-c23f-4ed4-9ccb-eb747baea2b2']],\n",
       "  [3,\n",
       "   ['orca-mini_3b', 'mistral_7b-instruct'],\n",
       "   ['9d6fa977-6f34-4785-9e17-43daa06dcf75',\n",
       "    '3d8e62f6-c0d6-4e1f-9676-e50cf23efaee']],\n",
       "  [4,\n",
       "   ['openchat_7b-v3.5', 'mistral_7b-instruct'],\n",
       "   ['5e57acca-13ba-4a24-a343-2bd2b1b2eee7',\n",
       "    '925802f4-2b97-42e5-a0d0-b4ea25ab11dd']],\n",
       "  [4,\n",
       "   ['zephyr_7b-beta', 'orca2_7b'],\n",
       "   ['6bd62aea-57c1-4a60-8641-0b6c70be768a',\n",
       "    '00cce952-00b4-40b4-91e4-3343fc0ea2a6']]],\n",
       " '76f98ad4-d87d-4d44-bc85-e42ee4c27ded': [[0,\n",
       "   ['llama2_7b-chat', 'neural-chat_7b'],\n",
       "   ['d005c1b3-a5fb-426d-bbe3-f380bd3f8b7b',\n",
       "    'acb3e191-1711-446e-87b8-fb969c03a29b']],\n",
       "  [0,\n",
       "   ['orca2_7b', 'mistral_7b-instruct'],\n",
       "   ['06ba5afd-f21c-4cd3-9c48-a59652f0b227',\n",
       "    'f91bcd93-28c3-452b-a1d6-4bcaf926ef72']],\n",
       "  [1,\n",
       "   ['stablelm-zephyr_3b', 'openchat_7b-v3.5'],\n",
       "   ['e3e59e7c-1e68-4aeb-9e76-cf45fd9330c7',\n",
       "    '5a452361-892c-48a6-a623-3d5d6647c4e4']],\n",
       "  [1,\n",
       "   ['orca-mini_3b', 'neural-chat_7b'],\n",
       "   ['baf96175-c4d8-4be4-a03c-7e58c1144c20',\n",
       "    '0cdcaace-f420-48ae-9dbd-a89185009d61']],\n",
       "  [2,\n",
       "   ['openchat_7b-v3.5', 'mistral_7b-instruct'],\n",
       "   ['afb974c8-341f-4c24-a077-3831904e0c80',\n",
       "    '83dd99c4-bc1a-4950-8c73-bb1a3669900e']],\n",
       "  [2,\n",
       "   ['openchat_7b-v3.5', 'neural-chat_7b'],\n",
       "   ['a2ccac4c-25db-4d4c-b252-a34bfd4cad0a',\n",
       "    '05a4bdc9-673c-476d-8a51-a10872dd073e']],\n",
       "  [3,\n",
       "   ['zephyr_7b-beta', 'llama2_7b-chat'],\n",
       "   ['a86319b1-32a2-4fb0-b7a1-ac693f1c1654',\n",
       "    '94661241-e3d1-430a-804a-2ce0767e16b0']],\n",
       "  [3,\n",
       "   ['openchat_7b-v3.5', 'orca2_7b'],\n",
       "   ['1813b4b7-aef4-48f0-ab3f-179607b35b61',\n",
       "    'f13f8447-a062-4d1b-afdf-5d4316b60ebc']],\n",
       "  [4,\n",
       "   ['vicuna_7b', 'stablelm-zephyr_3b'],\n",
       "   ['fca2aadc-6863-4d93-a6d4-6f3a75539fc8',\n",
       "    '4f58b87c-e2aa-485a-ab06-e93d9b6e86ea']],\n",
       "  [4,\n",
       "   ['zephyr_7b-beta', 'gpt-4'],\n",
       "   ['7c906e0a-0837-454b-96f2-86d6d1de0a90',\n",
       "    'bbcf522e-eaf5-4a39-a58e-54582b01f4cd']]],\n",
       " '5336b2f8-8f83-442e-abb1-1eefa416cbb6': [[0,\n",
       "   ['vicuna_7b', 'orca-mini_3b'],\n",
       "   ['41bdc7f7-5472-4724-a9a2-448ee7b62b3d',\n",
       "    'f8591f13-4bac-4fca-be3f-b12611e9c7f1']],\n",
       "  [0,\n",
       "   ['vicuna_7b', 'orca2_7b'],\n",
       "   ['aafaf8af-1050-4030-860a-42177c73d15e',\n",
       "    '4504b705-05a8-4956-abde-c57d0cf38ed6']],\n",
       "  [1,\n",
       "   ['stablelm-zephyr_3b', 'mistral_7b-instruct'],\n",
       "   ['e7bcfa02-4cd7-4955-802a-2f68d5359e48',\n",
       "    'c6ab3863-38c5-4d37-b059-d6947a408efe']],\n",
       "  [1,\n",
       "   ['zephyr_7b-beta', 'openchat_7b-v3.5'],\n",
       "   ['200a47f5-64af-4c86-96c2-ba53db1c2899',\n",
       "    '5fa43670-1d54-4c5b-a017-a5e3b63019c9']],\n",
       "  [2,\n",
       "   ['orca-mini_3b', 'orca2_7b'],\n",
       "   ['4504cc78-47de-40c4-a6ed-51ee4f089ae2',\n",
       "    '715efae2-3a1e-4bd2-b921-6dbd9c2efd6e']],\n",
       "  [2,\n",
       "   ['gpt-4', 'orca-mini_3b'],\n",
       "   ['03163074-d0fe-4476-b5f5-e7a8239f39f7',\n",
       "    '8e5abd24-6f21-48f6-b33d-08d58992ed92']],\n",
       "  [3,\n",
       "   ['zephyr_7b-beta', 'orca2_7b'],\n",
       "   ['d757da23-aa41-433b-a400-ff18627759d2',\n",
       "    '81fd234d-9cea-454f-a380-8b36382d473b']],\n",
       "  [3,\n",
       "   ['gpt-4', 'neural-chat_7b'],\n",
       "   ['5f515c1b-c7e1-4a9a-9fb6-b7088991a34c',\n",
       "    '5c00678c-1aaa-4f3f-b53a-038562cc750b']],\n",
       "  [4,\n",
       "   ['vicuna_7b', 'gpt-4'],\n",
       "   ['5fadc3dd-7ad1-4254-816d-5b2f29f7a436',\n",
       "    'bbcf522e-eaf5-4a39-a58e-54582b01f4cd']],\n",
       "  [4,\n",
       "   ['vicuna_7b', 'openchat_7b-v3.5'],\n",
       "   ['5fadc3dd-7ad1-4254-816d-5b2f29f7a436',\n",
       "    '6cb1f1d4-98ba-4991-ba4a-a7d694e9df4c']]],\n",
       " 'f0f084f0-6ec5-41b8-af9b-305a00f01d80': [[0,\n",
       "   ['llama2_7b-chat', 'openchat_7b-v3.5'],\n",
       "   ['223ba426-c74d-4d42-97c4-0a7c42372eb7',\n",
       "    'c17011fd-b343-46f8-85af-48bebf1c370d']],\n",
       "  [0,\n",
       "   ['starling-lm_7b', 'orca-mini_3b'],\n",
       "   ['edbf41b1-4e1b-4051-9960-f590002dce5a',\n",
       "    'f8591f13-4bac-4fca-be3f-b12611e9c7f1']],\n",
       "  [1,\n",
       "   ['vicuna_7b', 'gpt-4'],\n",
       "   ['a4c7e803-de50-4283-84f8-e2cb9aa473a2',\n",
       "    'addcf6ef-872d-44f5-9dca-6d6d2a2ccbd2']],\n",
       "  [1,\n",
       "   ['gpt-4', 'neural-chat_7b'],\n",
       "   ['f4358654-2401-4bf6-b09e-0d922e8e72b3',\n",
       "    '5e30c7b3-514c-4ceb-8508-1f7710f6e1d3']],\n",
       "  [2,\n",
       "   ['vicuna_7b', 'neural-chat_7b'],\n",
       "   ['69d74ca6-3c00-4310-aee4-4e6dbd44e0b5',\n",
       "    'fa5c4357-f48d-456c-b816-80aa3799f2fd']],\n",
       "  [2,\n",
       "   ['openchat_7b-v3.5', 'mistral_7b-instruct'],\n",
       "   ['2b3ee717-7d6e-4e51-91c5-afc3af081f87',\n",
       "    '38785355-255a-4f36-a9c6-4ce1123ddae9']],\n",
       "  [3,\n",
       "   ['vicuna_7b', 'neural-chat_7b'],\n",
       "   ['ad7606ab-08e1-4db6-8c35-30d17db2e936',\n",
       "    'b6e31dea-a63c-46e7-aa73-a3fd5af616c0']],\n",
       "  [3,\n",
       "   ['starling-lm_7b', 'llama2_7b-chat'],\n",
       "   ['4b59b0a4-d425-4568-9977-8d48c1bf4bb5',\n",
       "    '94661241-e3d1-430a-804a-2ce0767e16b0']],\n",
       "  [4,\n",
       "   ['stablelm-zephyr_3b', 'openchat_7b-v3.5'],\n",
       "   ['4f58b87c-e2aa-485a-ab06-e93d9b6e86ea',\n",
       "    '6cb1f1d4-98ba-4991-ba4a-a7d694e9df4c']],\n",
       "  [4,\n",
       "   ['stablelm-zephyr_3b', 'orca-mini_3b'],\n",
       "   ['3a4f111a-b0e1-4ae8-be16-df46c523e685',\n",
       "    '3b298898-437a-4e74-97ce-f7b0a22471d5']]],\n",
       " 'd2571c44-c9ba-49bb-bb52-c9281bf12556': [[0,\n",
       "   ['stablelm-zephyr_3b', 'llama2_7b-chat'],\n",
       "   ['f3242bf3-1ad1-42dd-ae3f-d12d23ceea97',\n",
       "    '3dc8cb90-6f16-4815-9261-fe0ccb7ab65e']],\n",
       "  [0,\n",
       "   ['openchat_7b-v3.5', 'orca2_7b'],\n",
       "   ['5587b554-19f0-4111-8edd-de291184c944',\n",
       "    '4504b705-05a8-4956-abde-c57d0cf38ed6']],\n",
       "  [1,\n",
       "   ['openchat_7b-v3.5', 'orca2_7b'],\n",
       "   ['5a452361-892c-48a6-a623-3d5d6647c4e4',\n",
       "    '0faee49c-dcaa-431b-aa53-d07cd0fed768']],\n",
       "  [1,\n",
       "   ['starling-lm_7b', 'orca-mini_3b'],\n",
       "   ['f0180bf3-3649-454e-9e1b-05dc5256333e',\n",
       "    'baf96175-c4d8-4be4-a03c-7e58c1144c20']],\n",
       "  [2,\n",
       "   ['orca2_7b', 'mistral_7b-instruct'],\n",
       "   ['0622f400-4873-4581-8d4a-c3ca238ac527',\n",
       "    'e87b8a27-8906-422e-bada-e04c5013a0e7']],\n",
       "  [2,\n",
       "   ['stablelm-zephyr_3b', 'llama2_7b-chat'],\n",
       "   ['35bbe62a-e939-40bc-a8c3-23e127325944',\n",
       "    '9840c10f-aded-4015-b010-dc2a05f019ba']],\n",
       "  [3,\n",
       "   ['stablelm-zephyr_3b', 'neural-chat_7b'],\n",
       "   ['2233a663-0e1b-4729-8ba5-f975a41ab053',\n",
       "    'b6e31dea-a63c-46e7-aa73-a3fd5af616c0']],\n",
       "  [3,\n",
       "   ['llama2_7b-chat', 'neural-chat_7b'],\n",
       "   ['954cf1cf-c731-4969-a89b-1116f5a7c998',\n",
       "    '0253b2ac-af9b-462e-af30-f16652abcb3d']],\n",
       "  [4,\n",
       "   ['vicuna_7b', 'stablelm-zephyr_3b'],\n",
       "   ['fca2aadc-6863-4d93-a6d4-6f3a75539fc8',\n",
       "    '83eca0bb-e704-46e8-b72a-5ba92e291480']],\n",
       "  [4,\n",
       "   ['stablelm-zephyr_3b', 'neural-chat_7b'],\n",
       "   ['3a4f111a-b0e1-4ae8-be16-df46c523e685',\n",
       "    'a4413626-3ca1-4939-91ed-348d6af27395']]]}"
      ]
     },
     "execution_count": 7,
     "metadata": {},
     "output_type": "execute_result"
    }
   ],
   "source": [
    "with open(os.path.join(CONFIG_DIR, \"distribution.json\"), \"r\") as f:\n",
    "    distribution = json.load(f)\n",
    "\n",
    "distribution"
   ]
  },
  {
   "cell_type": "code",
   "execution_count": 8,
   "metadata": {},
   "outputs": [
    {
     "data": {
      "text/plain": [
       "5"
      ]
     },
     "execution_count": 8,
     "metadata": {},
     "output_type": "execute_result"
    }
   ],
   "source": [
    "len(distribution)"
   ]
  },
  {
   "cell_type": "code",
   "execution_count": 9,
   "metadata": {},
   "outputs": [
    {
     "data": {
      "text/plain": [
       "3"
      ]
     },
     "execution_count": 9,
     "metadata": {},
     "output_type": "execute_result"
    }
   ],
   "source": [
    "distribution_with_incpmlete = distribution.copy()\n",
    "for k in distribution.keys():\n",
    "    if k in set(completed_question_sets):\n",
    "        distribution_with_incpmlete.pop(k, None)\n",
    "len(distribution_with_incpmlete)"
   ]
  },
  {
   "cell_type": "code",
   "execution_count": 10,
   "metadata": {},
   "outputs": [],
   "source": [
    "backup_check = input(\"Have you backed up the results and config files? (y/n) \")\n",
    "if backup_check == \"y\":\n",
    "    with open (os.path.join(CONFIG_DIR, \"distribution.json\"), \"w\") as f:\n",
    "        json.dump(distribution_with_incpmlete, f, indent=4)\n",
    "    updated_config = config.copy()\n",
    "    updated_config[\"config\"][\"n_workers\"] = len(distribution_with_incpmlete)\n",
    "    with open (os.path.join(CONFIG_DIR, \"config.json\"), \"w\") as f:\n",
    "        json.dump(updated_config, f, indent=4)\n",
    "    os.remove(os.path.join(CONFIG_DIR, \"worker_count.txt\"))\n",
    "else:\n",
    "    print(\"Please backup the results and config files before proceeding.\")"
   ]
  },
  {
   "cell_type": "code",
   "execution_count": null,
   "metadata": {},
   "outputs": [],
   "source": []
  }
 ],
 "metadata": {
  "kernelspec": {
   "display_name": "lame-tool",
   "language": "python",
   "name": "python3"
  },
  "language_info": {
   "codemirror_mode": {
    "name": "ipython",
    "version": 3
   },
   "file_extension": ".py",
   "mimetype": "text/x-python",
   "name": "python",
   "nbconvert_exporter": "python",
   "pygments_lexer": "ipython3",
   "version": "3.11.7"
  }
 },
 "nbformat": 4,
 "nbformat_minor": 2
}
