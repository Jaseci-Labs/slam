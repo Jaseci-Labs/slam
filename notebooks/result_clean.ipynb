{
 "cells": [
  {
   "cell_type": "code",
   "execution_count": 1,
   "metadata": {},
   "outputs": [],
   "source": [
    "import os\n",
    "import json\n",
    "\n",
    "CONFIG_DIR = \"../.human_eval_config\"\n",
    "RESDULTS_DIR = \"../results\""
   ]
  },
  {
   "cell_type": "code",
   "execution_count": 11,
   "metadata": {},
   "outputs": [],
   "source": [
    "import zipfile\n",
    "import datetime\n",
    "\n",
    "os.makedirs(\".backup\", exist_ok=True)\n",
    "current_time = datetime.datetime.now().strftime(\"%Y-%m-%d_%H-%M-%S\")\n",
    "\n",
    "# Backing up the Configs and Results\n",
    "with zipfile.ZipFile(os.path.join(\"Backups\", f\"config_{current_time}\"), 'w') as zipf:\n",
    "    for root, dirs, files in os.walk(CONFIG_DIR):\n",
    "        for file in files:\n",
    "            zipf.write(os.path.join(root, file))\n",
    "\n",
    "with zipfile.ZipFile(os.path.join(\"Backups\", f\"results_{current_time}\"), 'w') as zipf:\n",
    "    for root, dirs, files in os.walk(RESDULTS_DIR):\n",
    "        for file in files:\n",
    "            zipf.write(os.path.join(root, file))"
   ]
  },
  {
   "cell_type": "code",
   "execution_count": 2,
   "metadata": {},
   "outputs": [],
   "source": [
    "with open(os.path.join(CONFIG_DIR, \"config.json\"), \"r\") as f:\n",
    "    config = json.load(f)"
   ]
  },
  {
   "cell_type": "code",
   "execution_count": 4,
   "metadata": {},
   "outputs": [],
   "source": [
    "results_files = [f for f in os.listdir(RESDULTS_DIR) if f.endswith(\".json\")]\n",
    "\n",
    "workers = []\n",
    "question_sets = []\n",
    "completed_question_sets = []\n",
    "incomplete_question_sets = []\n",
    "for f in results_files:\n",
    "    with open(os.path.join(RESDULTS_DIR, f)) as file:\n",
    "        results = json.load(file)\n",
    "        workers.append(results[\"worker_id\"])\n",
    "        question_sets.append(results[\"question_set_id\"])\n",
    "        if results[\"question_index\"] == config[\"config\"][\"n_questions_per_worker\"]:\n",
    "            completed_question_sets.append(results[\"question_set_id\"])\n",
    "        else:\n",
    "            incomplete_question_sets.append(results[\"question_set_id\"])"
   ]
  },
  {
   "cell_type": "code",
   "execution_count": 6,
   "metadata": {},
   "outputs": [
    {
     "data": {
      "text/plain": [
       "(202, 34, 242, 229, 242, 226)"
      ]
     },
     "execution_count": 6,
     "metadata": {},
     "output_type": "execute_result"
    }
   ],
   "source": [
    "len(set(completed_question_sets)), len(set(incomplete_question_sets)), len(workers), len(set(workers)), len(question_sets), len(set(question_sets))"
   ]
  },
  {
   "cell_type": "code",
   "execution_count": 10,
   "metadata": {},
   "outputs": [
    {
     "data": {
      "text/plain": [
       "{'32fa0bb6-3cbb-4b6a-90ba-a4dcc181a2b4': 2,\n",
       " '9419d52b-2d60-4f0f-bfd9-90a167e7ecc0': 2,\n",
       " '14617788-1c1b-42b2-8e95-e4422caae387': 2,\n",
       " 'cd2a2d5e-d8e0-4bf0-99ed-daaebe9eb398': 2,\n",
       " '45a5e017-bd6a-4e69-8929-2ef5f842cd1d': 2}"
      ]
     },
     "execution_count": 10,
     "metadata": {},
     "output_type": "execute_result"
    }
   ],
   "source": [
    "# list the items in completed_question_sets with count > 1\n",
    "from collections import Counter\n",
    "question_set_counts = Counter(incomplete_question_sets)\n",
    "question_set_counts = {k: v for k, v in question_set_counts.items() if v > 1}\n",
    "question_set_counts"
   ]
  },
  {
   "cell_type": "code",
   "execution_count": null,
   "metadata": {},
   "outputs": [],
   "source": []
  }
 ],
 "metadata": {
  "kernelspec": {
   "display_name": "lame-tool",
   "language": "python",
   "name": "python3"
  },
  "language_info": {
   "codemirror_mode": {
    "name": "ipython",
    "version": 3
   },
   "file_extension": ".py",
   "mimetype": "text/x-python",
   "name": "python",
   "nbconvert_exporter": "python",
   "pygments_lexer": "ipython3",
   "version": "3.11.7"
  }
 },
 "nbformat": 4,
 "nbformat_minor": 2
}
