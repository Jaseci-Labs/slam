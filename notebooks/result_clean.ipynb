{
 "cells": [
  {
   "cell_type": "code",
   "execution_count": 1,
   "metadata": {},
   "outputs": [],
   "source": [
    "import os\n",
    "import json\n",
    "\n",
    "CONFIG_DIR = \"../.human_eval_config\"\n",
    "RESDULTS_DIR = \"../results\""
   ]
  },
  {
   "cell_type": "code",
   "execution_count": 2,
   "metadata": {},
   "outputs": [],
   "source": [
    "import zipfile\n",
    "import datetime\n",
    "\n",
    "os.makedirs(\".new_backup\", exist_ok=True)\n",
    "current_time = datetime.datetime.now().strftime(\"%Y-%m-%d_%H-%M-%S\")\n",
    "\n",
    "# Backing up the Configs and Results\n",
    "with zipfile.ZipFile(os.path.join(\".new_backup\", f\"config_{current_time}\"), 'w', zipfile.ZIP_DEFLATED) as zipf:\n",
    "    for root, dirs, files in os.walk(CONFIG_DIR):\n",
    "        for file in files:\n",
    "            zipf.write(os.path.join(root, file))\n",
    "\n",
    "with zipfile.ZipFile(os.path.join(\".new_backup\", f\"results_{current_time}\"), 'w', zipfile.ZIP_DEFLATED) as zipf:\n",
    "    for root, dirs, files in os.walk(RESDULTS_DIR):\n",
    "        for file in files:\n",
    "            zipf.write(os.path.join(root, file))"
   ]
  },
  {
   "cell_type": "code",
   "execution_count": 3,
   "metadata": {},
   "outputs": [
    {
     "data": {
      "text/plain": [
       "'2024-02-18_07-55-01'"
      ]
     },
     "execution_count": 3,
     "metadata": {},
     "output_type": "execute_result"
    }
   ],
   "source": [
    "current_time"
   ]
  },
  {
   "cell_type": "code",
   "execution_count": 4,
   "metadata": {},
   "outputs": [],
   "source": [
    "with open(os.path.join(CONFIG_DIR, \"config.json\"), \"r\") as f:\n",
    "    config = json.load(f)"
   ]
  },
  {
   "cell_type": "code",
   "execution_count": 5,
   "metadata": {},
   "outputs": [
    {
     "name": "stdout",
     "output_type": "stream",
     "text": [
      "Error in 14735989_9d13e20b-aa25-4aa3-bb84-ff10fcaf3383.json: Expecting value: line 1 column 1 (char 0)\n",
      "Error in 14951301_c343bb68-7613-456b-894f-9b9782d338a4.json: Expecting value: line 1 column 1 (char 0)\n",
      "Error in cw_14936765@hotmail.com_d43b7c1c-21c2-40e8-8219-458d308b3628.json: Expecting value: line 1 column 1 (char 0)\n",
      "Error in 14815777_c23cfd95-5adc-4cbf-b137-1b3d3277fbfe.json: Expecting value: line 1 column 1 (char 0)\n",
      "Error in 10031931_addab51b-72de-4070-86f3-001c824d5b17.json: Expecting value: line 1 column 1 (char 0)\n"
     ]
    }
   ],
   "source": [
    "results_files = [f for f in os.listdir(RESDULTS_DIR) if f.endswith(\".json\")]\n",
    "\n",
    "time_threshold = 180\n",
    "workers = []\n",
    "question_sets = []\n",
    "completed_question_sets = []\n",
    "incomplete_question_sets = []\n",
    "fast_question_sets = []\n",
    "for f in results_files:\n",
    "    with open(os.path.join(RESDULTS_DIR, f)) as file:\n",
    "        try:\n",
    "            results = json.load(file)\n",
    "            workers.append(results[\"worker_id\"])\n",
    "            question_sets.append(results[\"question_set_id\"])\n",
    "            if results[\"question_index\"] == config[\"config\"][\"n_questions_per_worker\"]:\n",
    "                completed_question_sets.append(results[\"question_set_id\"])\n",
    "                time_taken = results[\"end_time\"] - results[\"start_time\"]\n",
    "                if time_taken < time_threshold:\n",
    "                    fast_question_sets.append((results[\"question_set_id\"], f))\n",
    "            else:\n",
    "                incomplete_question_sets.append(results[\"question_set_id\"])\n",
    "        except Exception as e:\n",
    "            print(f\"Error in {f}: {e}\")\n",
    "        "
   ]
  },
  {
   "cell_type": "code",
   "execution_count": 6,
   "metadata": {},
   "outputs": [
    {
     "name": "stdout",
     "output_type": "stream",
     "text": [
      "Number of completed question sets: 250\n",
      "Number of incomplete question sets: 127\n",
      "Number of unique workers: 376\n",
      "Number of total workers: 449\n",
      "Number of question sets: 449\n",
      "Number of unique question sets: 250\n",
      "Number of fast question sets: 1\n"
     ]
    }
   ],
   "source": [
    "print(\"Number of completed question sets:\", len(set(completed_question_sets)))\n",
    "print(\"Number of incomplete question sets:\", len(set(incomplete_question_sets)))\n",
    "print(\"Number of unique workers:\", len(set(workers)))\n",
    "print(\"Number of total workers:\", len(workers))\n",
    "print(\"Number of question sets:\", len(question_sets))\n",
    "print(\"Number of unique question sets:\", len(set(question_sets)))\n",
    "print(\"Number of fast question sets:\", len(set(fast_question_sets)))"
   ]
  },
  {
   "cell_type": "code",
   "execution_count": 7,
   "metadata": {},
   "outputs": [
    {
     "data": {
      "text/plain": [
       "[('397bfcff-acae-496a-9c0b-ede9f95381f8',\n",
       "  'Ashish_397bfcff-acae-496a-9c0b-ede9f95381f8.json')]"
      ]
     },
     "execution_count": 7,
     "metadata": {},
     "output_type": "execute_result"
    }
   ],
   "source": [
    "fast_question_sets"
   ]
  },
  {
   "cell_type": "code",
   "execution_count": 8,
   "metadata": {},
   "outputs": [],
   "source": [
    "# completed_question_sets - set([x[0] for x in fast_question_sets]) = correctly_completed\n",
    "correctly_completed = [x for x in completed_question_sets if x not in set([x[0] for x in fast_question_sets])]"
   ]
  },
  {
   "cell_type": "code",
   "execution_count": 9,
   "metadata": {},
   "outputs": [
    {
     "data": {
      "text/plain": [
       "249"
      ]
     },
     "execution_count": 9,
     "metadata": {},
     "output_type": "execute_result"
    }
   ],
   "source": [
    "# completed_question_sets = correctly_completed\n",
    "len(set(correctly_completed))"
   ]
  },
  {
   "cell_type": "code",
   "execution_count": 10,
   "metadata": {},
   "outputs": [
    {
     "data": {
      "text/plain": [
       "{'2a6660ae-99df-4c12-b28e-1a253e34369b': [['eb5f52c7-d80a-4415-b8bd-94afc211559a',\n",
       "   {'orca2_7b': '52c6a78e-577c-4611-b17c-3023a051462b',\n",
       "    'llama2_7b-chat': '1ffe2d89-0212-4ac6-abdf-2ec29e5ebce4'}],\n",
       "  ['eb5f52c7-d80a-4415-b8bd-94afc211559a',\n",
       "   {'orca2_7b': '96e2b34a-0c11-4db9-870b-52ffff9775e6',\n",
       "    'mistral_7b-instruct': 'eed7c1f5-62a3-431f-8caa-70807fc03f0a'}],\n",
       "  ['e3474732-8bf8-463d-8b57-b84fbeccf369',\n",
       "   {'neural-chat_7b': 'e052438f-255e-49f2-9a70-54924fd29f21',\n",
       "    'mistral_7b-instruct': 'e98d59d5-3bdb-469a-8566-4cd0c6191868'}],\n",
       "  ['e3474732-8bf8-463d-8b57-b84fbeccf369',\n",
       "   {'neural-chat_7b': 'a6d6c712-6234-4466-9385-c8ceaa1b9587',\n",
       "    'zephyr_7b-beta': '435cdd4a-4120-468a-b703-de59646dc6da'}],\n",
       "  ['516cea79-e5e1-4ea8-a733-a3dea2eb50c7',\n",
       "   {'neural-chat_7b': '1b5ba5f0-8e7a-4512-8b11-5a0e058120be',\n",
       "    'zephyr_7b-beta': 'e00a473b-8739-4ece-8c6c-8e28f0412ff6'}],\n",
       "  ['516cea79-e5e1-4ea8-a733-a3dea2eb50c7',\n",
       "   {'orca2_7b': '4f62a2a1-ade9-4125-854b-5f6dab52dba1',\n",
       "    'vicuna_7b': '47e81214-440b-4d0a-91e8-7ea80dc2486f'}],\n",
       "  ['5e2b0442-a13f-4991-9406-95ae4fccaa0e',\n",
       "   {'zephyr_7b-beta': '5303ff9c-d948-4b90-9ee4-d97c287ee3d7',\n",
       "    'vicuna_7b': '3ff63606-885a-4597-8256-c6821423ce9b'}],\n",
       "  ['5e2b0442-a13f-4991-9406-95ae4fccaa0e',\n",
       "   {'zephyr_7b-beta': 'f48d4b71-80de-4a2d-ac42-2672410f5583',\n",
       "    'orca2_7b': 'eef3a296-92ed-482a-bae8-2be77c743512'}],\n",
       "  ['dd16110b-32c4-497f-b78d-3ab1f8e79c2d',\n",
       "   {'zephyr_7b-beta': '43c00fbb-7292-444d-8fc0-bca83b56d98a',\n",
       "    'orca2_7b': '26d24bfd-7099-4ec5-b315-e18c85017532'}],\n",
       "  ['dd16110b-32c4-497f-b78d-3ab1f8e79c2d',\n",
       "   {'neural-chat_7b': '52a06d90-cbf7-4a67-8092-bf4e287e4cb3',\n",
       "    'orca2_7b': '26d24bfd-7099-4ec5-b315-e18c85017532'}]],\n",
       " 'ce6ab48d-5cc1-4cdc-a82c-8a2aebcbef99': [['eb5f52c7-d80a-4415-b8bd-94afc211559a',\n",
       "   {'gpt-4': '41c14689-5e1a-4e9c-99b6-6249241bee41',\n",
       "    'mistral_7b-instruct': 'ce23faa8-5b49-4449-b0b3-c562d50228ac'}],\n",
       "  ['eb5f52c7-d80a-4415-b8bd-94afc211559a',\n",
       "   {'neural-chat_7b': '392916ad-1098-4300-88b5-551fa0782520',\n",
       "    'zephyr_7b-beta': 'bb1d369c-e745-48e0-819d-2b36d750b5f9'}],\n",
       "  ['e3474732-8bf8-463d-8b57-b84fbeccf369',\n",
       "   {'zephyr_7b-beta': '626488da-f3bb-49e5-9a1e-4d4d02352bd5',\n",
       "    'starling-lm_7b': 'c432241f-e1c6-4ad2-9e42-4b044119ce4e'}],\n",
       "  ['e3474732-8bf8-463d-8b57-b84fbeccf369',\n",
       "   {'openchat_7b-v3.5': '74765f17-5562-44e7-9bec-c22f725fe2fd',\n",
       "    'mistral_7b-instruct': '85aaa6b6-4c40-445d-8393-3c95a69c0b06'}],\n",
       "  ['516cea79-e5e1-4ea8-a733-a3dea2eb50c7',\n",
       "   {'neural-chat_7b': '5867e1c7-1874-4e26-a09c-a204f93c5cd3',\n",
       "    'vicuna_7b': 'abfc4e67-af3e-4b45-bafe-1412bee94caf'}],\n",
       "  ['516cea79-e5e1-4ea8-a733-a3dea2eb50c7',\n",
       "   {'mistral_7b-instruct': 'ad6b20c2-2424-41fa-86af-f71c65b37d4f',\n",
       "    'starling-lm_7b': '32c35652-c340-4ef9-b868-5c8d88d70e98'}],\n",
       "  ['5e2b0442-a13f-4991-9406-95ae4fccaa0e',\n",
       "   {'zephyr_7b-beta': '5303ff9c-d948-4b90-9ee4-d97c287ee3d7',\n",
       "    'vicuna_7b': '17fa4178-fec1-4750-aef4-23ea44088bd5'}],\n",
       "  ['5e2b0442-a13f-4991-9406-95ae4fccaa0e',\n",
       "   {'starling-lm_7b': '6e983463-e3dc-46e2-a811-124faade902a',\n",
       "    'stablelm-zephyr_3b': 'e841b2e2-92f0-4a84-8c20-4e6e4a599d5b'}],\n",
       "  ['dd16110b-32c4-497f-b78d-3ab1f8e79c2d',\n",
       "   {'orca-mini_3b': '301afb6f-a6eb-45fd-a671-681b9ccb3b64',\n",
       "    'mistral_7b-instruct': 'c6124918-c24e-4fa4-8bfd-a9aad3aba321'}],\n",
       "  ['dd16110b-32c4-497f-b78d-3ab1f8e79c2d',\n",
       "   {'zephyr_7b-beta': '85219f02-257c-458f-9495-c5665d7cc97a',\n",
       "    'vicuna_7b': 'c41d5da2-46d4-4549-995b-10dc5f41ff4a'}]],\n",
       " 'a8867076-4ed3-4d60-a589-9bcd109dae9f': [['eb5f52c7-d80a-4415-b8bd-94afc211559a',\n",
       "   {'orca2_7b': '52c6a78e-577c-4611-b17c-3023a051462b',\n",
       "    'stablelm-zephyr_3b': 'a2bef17a-3593-4c5f-88b7-7de505cb47a3'}],\n",
       "  ['eb5f52c7-d80a-4415-b8bd-94afc211559a',\n",
       "   {'orca-mini_3b': '4e160d64-2875-41ed-9b85-0d9b599c7187',\n",
       "    'stablelm-zephyr_3b': '1f92efb6-d5da-4d0f-bf03-329310a02af3'}],\n",
       "  ['e3474732-8bf8-463d-8b57-b84fbeccf369',\n",
       "   {'orca-mini_3b': '7382c435-327c-493f-b243-298c27f50148',\n",
       "    'vicuna_7b': 'f59785fe-89b5-4766-a6c8-84b7eaeac166'}],\n",
       "  ['e3474732-8bf8-463d-8b57-b84fbeccf369',\n",
       "   {'openchat_7b-v3.5': '0761c589-3e66-4c76-98ae-183773100439',\n",
       "    'starling-lm_7b': '90a78e50-f225-436a-9c6a-1aa671897012'}],\n",
       "  ['516cea79-e5e1-4ea8-a733-a3dea2eb50c7',\n",
       "   {'openchat_7b-v3.5': '74d4d4fe-dedf-4e96-b052-1de453a66ec2',\n",
       "    'zephyr_7b-beta': 'a2d6e472-a515-4fa9-8549-f253114b60ca'}],\n",
       "  ['516cea79-e5e1-4ea8-a733-a3dea2eb50c7',\n",
       "   {'orca-mini_3b': 'b97550c8-dccf-412b-ac5e-441ee0addc8a',\n",
       "    'starling-lm_7b': '32c35652-c340-4ef9-b868-5c8d88d70e98'}],\n",
       "  ['5e2b0442-a13f-4991-9406-95ae4fccaa0e',\n",
       "   {'orca2_7b': '8649c2cd-5b48-46a7-8960-e2c858c466f7',\n",
       "    'mistral_7b-instruct': 'b175a282-536a-41cd-aba1-a7f062ef56f3'}],\n",
       "  ['5e2b0442-a13f-4991-9406-95ae4fccaa0e',\n",
       "   {'mistral_7b-instruct': 'b175a282-536a-41cd-aba1-a7f062ef56f3',\n",
       "    'stablelm-zephyr_3b': 'e841b2e2-92f0-4a84-8c20-4e6e4a599d5b'}],\n",
       "  ['dd16110b-32c4-497f-b78d-3ab1f8e79c2d',\n",
       "   {'openchat_7b-v3.5': 'bd7b5f57-ded6-4abf-9291-810e8a7d0a38',\n",
       "    'mistral_7b-instruct': 'c6124918-c24e-4fa4-8bfd-a9aad3aba321'}],\n",
       "  ['dd16110b-32c4-497f-b78d-3ab1f8e79c2d',\n",
       "   {'neural-chat_7b': '6703a433-896e-4ecb-81b9-4fb9c6966128',\n",
       "    'gpt-4': 'f7c0bede-4f88-4fe7-9c5e-ba9a3236425e'}]],\n",
       " '25a73066-d85a-4374-b546-f99d512cf735': [['eb5f52c7-d80a-4415-b8bd-94afc211559a',\n",
       "   {'orca2_7b': 'b4bc01cf-d091-4791-b209-93721a48d0a4',\n",
       "    'mistral_7b-instruct': 'eed7c1f5-62a3-431f-8caa-70807fc03f0a'}],\n",
       "  ['eb5f52c7-d80a-4415-b8bd-94afc211559a',\n",
       "   {'gpt-4': 'ed25af42-49cd-4109-8f9a-ead4a6d47a77',\n",
       "    'vicuna_7b': 'f405bc0b-0acc-4c2e-abef-6a9a369b4a30'}],\n",
       "  ['e3474732-8bf8-463d-8b57-b84fbeccf369',\n",
       "   {'neural-chat_7b': '803e0546-f7c3-440d-8f01-92d047bfaac9',\n",
       "    'zephyr_7b-beta': '3f1c53d8-51b2-46ef-a5eb-fc73e4e9a5a2'}],\n",
       "  ['e3474732-8bf8-463d-8b57-b84fbeccf369',\n",
       "   {'neural-chat_7b': 'bdc17103-a390-409f-9060-177495a07c05',\n",
       "    'llama2_7b-chat': 'd4a972f9-db9c-44ae-a46e-91486f1b988a'}],\n",
       "  ['516cea79-e5e1-4ea8-a733-a3dea2eb50c7',\n",
       "   {'openchat_7b-v3.5': 'f5f8e4a9-6742-4b3a-854e-996363e3001b',\n",
       "    'gpt-4': '9460b372-7f6f-4732-a042-59ca1703d0a1'}],\n",
       "  ['516cea79-e5e1-4ea8-a733-a3dea2eb50c7',\n",
       "   {'orca-mini_3b': '2b806b8e-c418-4cbd-9dd7-d5fa0c1e1055',\n",
       "    'orca2_7b': '2576a7af-29b1-4197-b9de-dc5d119ae917'}],\n",
       "  ['5e2b0442-a13f-4991-9406-95ae4fccaa0e',\n",
       "   {'orca-mini_3b': '3a5bc946-bd38-4da8-af9c-a0f3d9dc63a5',\n",
       "    'orca2_7b': 'd32c21bd-891f-43dd-ae95-6095c91f5f0c'}],\n",
       "  ['5e2b0442-a13f-4991-9406-95ae4fccaa0e',\n",
       "   {'orca2_7b': '8ed8e45c-1e7e-4556-b5a9-4280696241e3',\n",
       "    'stablelm-zephyr_3b': '6ea81cee-d00b-496f-a65a-a8a4b3a09a28'}],\n",
       "  ['dd16110b-32c4-497f-b78d-3ab1f8e79c2d',\n",
       "   {'mistral_7b-instruct': 'b3a8594c-ac4e-4857-b4d9-c538b9fb34e5',\n",
       "    'stablelm-zephyr_3b': '12c029aa-3c6b-4cce-a183-83ec4b4fa6d7'}],\n",
       "  ['dd16110b-32c4-497f-b78d-3ab1f8e79c2d',\n",
       "   {'neural-chat_7b': '17914c1f-b423-4b8a-b296-038bdf8b8ee3',\n",
       "    'zephyr_7b-beta': '43c00fbb-7292-444d-8fc0-bca83b56d98a'}]]}"
      ]
     },
     "execution_count": 10,
     "metadata": {},
     "output_type": "execute_result"
    }
   ],
   "source": [
    "with open(os.path.join(CONFIG_DIR, \"distribution.json\"), \"r\") as f:\n",
    "    distribution = json.load(f)\n",
    "\n",
    "distribution"
   ]
  },
  {
   "cell_type": "code",
   "execution_count": 11,
   "metadata": {},
   "outputs": [
    {
     "data": {
      "text/plain": [
       "4"
      ]
     },
     "execution_count": 11,
     "metadata": {},
     "output_type": "execute_result"
    }
   ],
   "source": [
    "len(distribution)"
   ]
  },
  {
   "cell_type": "code",
   "execution_count": 12,
   "metadata": {},
   "outputs": [
    {
     "data": {
      "text/plain": [
       "0"
      ]
     },
     "execution_count": 12,
     "metadata": {},
     "output_type": "execute_result"
    }
   ],
   "source": [
    "distribution_with_incpmlete = distribution.copy()\n",
    "for k in distribution.keys():\n",
    "    if k in set(completed_question_sets):\n",
    "        distribution_with_incpmlete.pop(k, None)\n",
    "len(distribution_with_incpmlete)"
   ]
  },
  {
   "cell_type": "code",
   "execution_count": 17,
   "metadata": {},
   "outputs": [],
   "source": [
    "backup_check = input(\"Have you backed up the results and config files? (y/n) \")\n",
    "if backup_check == \"y\":\n",
    "    with open (os.path.join(CONFIG_DIR, \"distribution.json\"), \"w\") as f:\n",
    "        json.dump(distribution_with_incpmlete, f, indent=4)\n",
    "    updated_config = config.copy()\n",
    "    updated_config[\"config\"][\"n_workers\"] = len(distribution_with_incpmlete)\n",
    "    with open (os.path.join(CONFIG_DIR, \"config.json\"), \"w\") as f:\n",
    "        json.dump(updated_config, f, indent=4)\n",
    "    os.remove(os.path.join(CONFIG_DIR, \"worker_count.txt\"))\n",
    "else:\n",
    "    print(\"Please backup the results and config files before proceeding.\")"
   ]
  },
  {
   "cell_type": "code",
   "execution_count": 1,
   "metadata": {},
   "outputs": [
    {
     "name": "stdout",
     "output_type": "stream",
     "text": [
      "{\n",
      "    \"hv_method\": \"A/B Testing with Criterions\",\n",
      "    \"config\": {\n",
      "        \"n_workers\": 4,\n",
      "        \"n_questions_per_worker\": 10,\n",
      "        \"n_options\": 2,\n",
      "        \"ability_to_tie\": \"Allow\",\n",
      "        \"data_sources\": [\n",
      "            \"peptalk_responses.json\",\n",
      "            \"first_task_responses.json\",\n",
      "            \"recommendation_responses.json\",\n",
      "            \"all_task_completed_responses.json\",\n",
      "            \"new_user_responses.json\"\n",
      "        ],\n",
      "        \"evenly_distributed\": true,\n",
      "        \"show_captcha\": true,\n",
      "        \"completion_code\": \"c9b2a7c5-995d-4df6-8c13-d7733ee7b319\"\n",
      "    },\n",
      "    \"time_created\": \"15/02/2024 17:22:03\"\n",
      "}"
     ]
    }
   ],
   "source": [
    "!cat ../../multi/.human_eval_config/config.json "
   ]
  },
  {
   "cell_type": "code",
   "execution_count": 2,
   "metadata": {},
   "outputs": [
    {
     "name": "stdout",
     "output_type": "stream",
     "text": [
      "4"
     ]
    }
   ],
   "source": [
    "!cat ../../multi/.human_eval_config/worker_count.txt"
   ]
  },
  {
   "cell_type": "code",
   "execution_count": 3,
   "metadata": {},
   "outputs": [
    {
     "name": "stdout",
     "output_type": "stream",
     "text": [
      "{\n",
      "    \"hv_method\": \"A/B Testing\",\n",
      "    \"config\": {\n",
      "        \"n_workers\": 1,\n",
      "        \"n_questions_per_worker\": 10,\n",
      "        \"n_options\": 2,\n",
      "        \"ability_to_tie\": \"Allow\",\n",
      "        \"data_sources\": [\n",
      "            \"peptalk_responses.json\",\n",
      "            \"first_task_responses.json\",\n",
      "            \"recommendation_responses.json\",\n",
      "            \"all_task_completed_responses.json\",\n",
      "            \"new_user_responses.json\"\n",
      "        ],\n",
      "        \"evenly_distributed\": true,\n",
      "        \"show_captcha\": true,\n",
      "        \"completion_code\": \"7155bc11-bb03-4ca7-8281-2e06bb2ca212\"\n",
      "    },\n",
      "    \"time_created\": \"15/02/2024 17:19:56\"\n",
      "}"
     ]
    }
   ],
   "source": [
    "!cat ../../prefer/.human_eval_config/config.json "
   ]
  },
  {
   "cell_type": "code",
   "execution_count": 4,
   "metadata": {},
   "outputs": [
    {
     "name": "stdout",
     "output_type": "stream",
     "text": [
      "1"
     ]
    }
   ],
   "source": [
    "!cat ../../prefer/.human_eval_config/worker_count.txt"
   ]
  },
  {
   "cell_type": "code",
   "execution_count": 20,
   "metadata": {},
   "outputs": [],
   "source": [
    "# rm -rf .human_eval_config/\n",
    "# rm -rf results\n",
    "# cp -R ../prefer/.human_eval_config/ .\n",
    "# cp -R ../prefer/results/ .\n",
    "\n",
    "# rm -rf ../prefer/.human_eval_config/\n",
    "# cp -R .human_eval_config/ ../prefer/ "
   ]
  },
  {
   "cell_type": "code",
   "execution_count": 21,
   "metadata": {},
   "outputs": [],
   "source": [
    "# rm -rf .human_eval_config/\n",
    "# rm -rf results\n",
    "# cp -R ../multi/.human_eval_config/ .\n",
    "# cp -R ../multi/results/ .\n",
    "\n",
    "# rm -rf ../multi/.human_eval_config/\n",
    "# cp -R .human_eval_config/ ../multi/ "
   ]
  },
  {
   "cell_type": "code",
   "execution_count": 13,
   "metadata": {},
   "outputs": [
    {
     "name": "stderr",
     "output_type": "stream",
     "text": [
      "/tmp/ipykernel_1026236/616372585.py:20: FutureWarning: The behavior of DataFrame concatenation with empty or all-NA entries is deprecated. In a future version, this will no longer exclude empty or all-NA columns when determining the result dtypes. To retain the old behavior, exclude the relevant entries before the concat operation.\n",
      "  df = pd.concat([df, new_row], ignore_index=True)\n"
     ]
    },
    {
     "name": "stdout",
     "output_type": "stream",
     "text": [
      "Error in 14735989_9d13e20b-aa25-4aa3-bb84-ff10fcaf3383.json: Expecting value: line 1 column 1 (char 0)\n",
      "Error in 14951301_c343bb68-7613-456b-894f-9b9782d338a4.json: Expecting value: line 1 column 1 (char 0)\n",
      "Error in cw_14936765@hotmail.com_d43b7c1c-21c2-40e8-8219-458d308b3628.json: Expecting value: line 1 column 1 (char 0)\n",
      "Error in 14815777_c23cfd95-5adc-4cbf-b137-1b3d3277fbfe.json: Expecting value: line 1 column 1 (char 0)\n",
      "Error in 10031931_addab51b-72de-4070-86f3-001c824d5b17.json: Expecting value: line 1 column 1 (char 0)\n"
     ]
    }
   ],
   "source": [
    "import pandas as pd\n",
    "\n",
    "results_files = [f for f in os.listdir(RESDULTS_DIR) if f.endswith(\".json\")]\n",
    "\n",
    "df = pd.DataFrame(columns=[\"worker_id\", \"question_set_id\", \"prompt_id\", \"response_a_model\", \"response_b_model\", \"overall_preference\", \"feedback\", \"time_taken\", \"total_time_taken\"])\n",
    "for f in results_files:\n",
    "    with open(os.path.join(RESDULTS_DIR, f)) as file:\n",
    "        try:\n",
    "            result = json.load(file)\n",
    "            total_time_taken = result[\"end_time\"] - result[\"start_time\"]\n",
    "            worker_id = result[\"worker_id\"]\n",
    "            question_set_id = result[\"question_set_id\"]\n",
    "            for eval in result[\"evals\"]:\n",
    "                overall_preference = eval[\"result\"][\"overall\"]\n",
    "                feedback = eval[\"result\"][\"feedback\"]\n",
    "                time_taken = eval[\"time\"] - result[\"start_time\"]\n",
    "                prompt_id = eval[\"question\"][0]\n",
    "                response_a_model, response_b_model = list(eval[\"question\"][1].keys())\n",
    "                new_row = pd.DataFrame({\"worker_id\": [worker_id], \"question_set_id\": [question_set_id], \"prompt_id\": [prompt_id], \"response_a_model\": [response_a_model], \"response_b_model\": [response_b_model], \"overall_preference\": [overall_preference], \"feedback\": [feedback], \"time_taken\": [time_taken], \"total_time_taken\": [total_time_taken]})\n",
    "                df = pd.concat([df, new_row], ignore_index=True)\n",
    "        except Exception as e:\n",
    "            print(f\"Error in {f}: {e}\")"
   ]
  },
  {
   "cell_type": "code",
   "execution_count": 14,
   "metadata": {},
   "outputs": [],
   "source": [
    "df.to_csv(\"multi_results.csv\", index=False)"
   ]
  },
  {
   "cell_type": "code",
   "execution_count": 15,
   "metadata": {},
   "outputs": [
    {
     "name": "stdout",
     "output_type": "stream",
     "text": [
      "2 5\n",
      "6 14\n",
      "15 24\n",
      "26 35\n",
      "37 46\n",
      "47 51\n",
      "52 61\n",
      "64 67\n",
      "68 77\n",
      "78 87\n",
      "88 97\n",
      "98 107\n",
      "110 119\n",
      "120 127\n",
      "128 137\n",
      "138 147\n",
      "148 157\n",
      "158 167\n",
      "168 177\n",
      "178 183\n",
      "184 193\n",
      "195 204\n",
      "205 207\n",
      "208 217\n",
      "218 227\n",
      "229 238\n",
      "239 248\n",
      "249 258\n",
      "259 268\n",
      "269 278\n",
      "279 285\n",
      "286 295\n",
      "297 306\n",
      "307 310\n",
      "311 320\n",
      "321 330\n",
      "331 340\n",
      "342 344\n",
      "345 354\n",
      "355 356\n",
      "357 366\n",
      "367 376\n",
      "377 386\n",
      "387 393\n",
      "394 397\n",
      "398 407\n",
      "408 417\n",
      "418 427\n",
      "428 429\n",
      "430 439\n",
      "440 449\n",
      "450 459\n",
      "460 464\n",
      "465 474\n",
      "475 484\n",
      "485 494\n",
      "495 504\n",
      "505 506\n",
      "507 516\n",
      "517 521\n",
      "522 523\n",
      "524 533\n",
      "534 543\n",
      "545 550\n",
      "552 561\n",
      "563 572\n",
      "573 582\n",
      "584 588\n",
      "589 597\n",
      "599 606\n",
      "607 616\n",
      "617 626\n",
      "628 637\n",
      "638 647\n",
      "648 653\n",
      "654 663\n",
      "664 673\n",
      "674 683\n",
      "684 693\n",
      "697 706\n",
      "709 718\n",
      "719 728\n",
      "729 738\n",
      "739 748\n",
      "749 758\n",
      "760 763\n",
      "764 773\n",
      "774 783\n",
      "784 793\n",
      "794 803\n",
      "804 813\n",
      "815 824\n",
      "825 827\n",
      "828 837\n",
      "838 847\n",
      "848 853\n",
      "854 863\n",
      "865 867\n",
      "868 877\n",
      "878 887\n",
      "888 897\n",
      "900 909\n",
      "910 919\n",
      "920 929\n",
      "930 939\n",
      "940 941\n",
      "942 951\n",
      "952 959\n",
      "960 969\n",
      "970 974\n",
      "975 984\n",
      "985 994\n",
      "995 1004\n",
      "1005 1014\n",
      "1015 1024\n",
      "1025 1034\n",
      "1035 1037\n",
      "1041 1045\n",
      "1046 1047\n",
      "1048 1057\n",
      "1058 1061\n",
      "1062 1071\n",
      "1072 1081\n",
      "1082 1091\n",
      "1092 1101\n",
      "1102 1111\n",
      "1112 1121\n",
      "1122 1123\n",
      "1124 1133\n",
      "1137 1146\n",
      "1147 1156\n",
      "1157 1163\n",
      "1164 1173\n",
      "1174 1175\n",
      "1176 1185\n",
      "1186 1192\n",
      "1193 1194\n",
      "1195 1204\n",
      "1205 1214\n",
      "1215 1224\n",
      "1225 1227\n",
      "1228 1237\n",
      "1238 1247\n",
      "1248 1252\n",
      "1253 1255\n",
      "1257 1262\n",
      "1263 1265\n",
      "1266 1275\n",
      "1276 1280\n",
      "1281 1282\n",
      "1283 1292\n",
      "1293 1302\n",
      "1303 1307\n",
      "1308 1309\n",
      "1311 1312\n",
      "1314 1316\n",
      "1317 1326\n",
      "1327 1328\n",
      "1329 1338\n",
      "1339 1348\n",
      "1349 1350\n",
      "1351 1353\n",
      "1355 1361\n",
      "1363 1372\n",
      "1373 1378\n",
      "1379 1387\n",
      "1388 1397\n",
      "1399 1402\n",
      "1403 1412\n",
      "1413 1422\n",
      "1423 1425\n",
      "1426 1427\n",
      "1428 1435\n",
      "1436 1440\n",
      "1441 1450\n",
      "1451 1453\n",
      "1454 1463\n",
      "1464 1473\n",
      "1474 1483\n",
      "1485 1494\n",
      "1495 1504\n",
      "1505 1511\n",
      "1512 1521\n",
      "1522 1531\n",
      "1532 1541\n",
      "1543 1544\n",
      "1545 1554\n",
      "1555 1564\n",
      "1565 1569\n",
      "1570 1579\n",
      "1582 1591\n",
      "1592 1601\n",
      "1602 1611\n",
      "1612 1614\n",
      "1615 1624\n",
      "1625 1634\n",
      "1635 1636\n",
      "1637 1645\n",
      "1646 1655\n",
      "1656 1665\n",
      "1667 1676\n",
      "1677 1681\n",
      "1682 1686\n",
      "1687 1689\n",
      "1690 1699\n",
      "1700 1709\n",
      "1710 1719\n",
      "1720 1729\n",
      "1730 1739\n",
      "1740 1749\n",
      "1750 1758\n",
      "1759 1760\n",
      "1761 1770\n",
      "1771 1780\n",
      "1781 1790\n",
      "1792 1795\n",
      "1797 1798\n",
      "1799 1808\n",
      "1809 1818\n",
      "1819 1828\n",
      "1829 1838\n",
      "1840 1849\n",
      "1851 1853\n",
      "1854 1863\n",
      "1864 1866\n",
      "1869 1878\n",
      "1880 1889\n",
      "1891 1900\n",
      "1901 1910\n",
      "1911 1914\n",
      "1915 1924\n",
      "1925 1934\n",
      "1935 1944\n",
      "1945 1948\n",
      "1950 1959\n",
      "1961 1970\n",
      "1971 1973\n",
      "1975 1976\n",
      "1977 1978\n",
      "1979 1988\n",
      "1989 1998\n",
      "2000 2009\n",
      "2010 2019\n",
      "2020 2029\n",
      "2031 2034\n",
      "2035 2044\n",
      "2045 2054\n",
      "2055 2064\n",
      "2065 2074\n",
      "2075 2077\n",
      "2078 2087\n",
      "2088 2097\n",
      "2098 2107\n",
      "2108 2114\n",
      "2115 2124\n",
      "2125 2126\n",
      "2127 2136\n",
      "2137 2146\n",
      "2147 2156\n",
      "2157 2158\n",
      "2159 2168\n",
      "2169 2178\n",
      "2179 2188\n",
      "2189 2198\n",
      "2199 2208\n",
      "2210 2219\n",
      "2221 2223\n",
      "2224 2233\n",
      "2234 2243\n",
      "2244 2246\n",
      "2247 2256\n",
      "2257 2266\n",
      "2267 2270\n",
      "2271 2280\n",
      "2281 2282\n",
      "2283 2285\n",
      "2286 2292\n",
      "2293 2302\n",
      "2303 2312\n",
      "2313 2316\n",
      "2317 2326\n",
      "2327 2331\n",
      "2333 2338\n",
      "2339 2342\n",
      "2343 2352\n",
      "2353 2362\n",
      "2363 2372\n",
      "2373 2382\n",
      "2383 2388\n",
      "2389 2393\n",
      "2394 2403\n",
      "2404 2413\n",
      "2414 2423\n",
      "2424 2433\n",
      "2434 2443\n",
      "2444 2453\n",
      "2454 2463\n",
      "2465 2474\n",
      "2475 2478\n",
      "2479 2485\n",
      "2486 2495\n",
      "2497 2506\n",
      "2507 2516\n",
      "2517 2523\n",
      "2524 2533\n",
      "2534 2543\n",
      "2544 2546\n",
      "2547 2548\n",
      "2549 2558\n",
      "2559 2561\n",
      "2562 2571\n",
      "2572 2581\n",
      "2582 2591\n",
      "2592 2601\n",
      "2602 2603\n",
      "2604 2605\n",
      "2606 2615\n",
      "2616 2625\n",
      "2626 2631\n",
      "2632 2641\n",
      "2642 2651\n",
      "2652 2661\n",
      "2662 2671\n",
      "2674 2683\n",
      "2684 2693\n",
      "2694 2703\n",
      "2704 2713\n",
      "2714 2723\n",
      "2725 2726\n",
      "2727 2736\n",
      "2737 2746\n",
      "2747 2753\n",
      "2754 2763\n",
      "2764 2773\n",
      "2774 2780\n",
      "2781 2790\n",
      "2791 2800\n",
      "2801 2810\n",
      "2811 2820\n",
      "2821 2830\n",
      "2831 2840\n",
      "2841 2850\n",
      "2851 2860\n",
      "2861 2867\n",
      "2869 2870\n",
      "2871 2874\n",
      "2875 2884\n",
      "2885 2894\n",
      "2895 2904\n",
      "2905 2906\n",
      "2907 2916\n",
      "2917 2926\n",
      "2927 2936\n",
      "2937 2939\n",
      "2940 2949\n",
      "2950 2959\n",
      "2961 2967\n",
      "2968 2977\n",
      "2978 2987\n",
      "2989 2998\n",
      "3001 3010\n",
      "3011 3020\n",
      "3022 3031\n",
      "3032 3034\n",
      "3035 3042\n",
      "3043 3052\n",
      "3054 3059\n",
      "3062 3064\n",
      "3065 3074\n",
      "3076 3085\n",
      "3086 3095\n",
      "3096 3105\n",
      "3107 3116\n",
      "3117 3120\n"
     ]
    }
   ],
   "source": [
    "# convert to a excel file with additional column with a dropdown [\"Accept\", \"Reject\", \"Maybe\"]\n",
    "# in the worker_id if consective rows have the same value, then merge the cells in the excel file. do it for both worker_id and question_set_id, total_time_taken, dropdown columns\n",
    "\n",
    "import openpyxl\n",
    "from openpyxl.utils.dataframe import dataframe_to_rows\n",
    "from openpyxl.styles import Alignment\n",
    "from openpyxl.styles import PatternFill\n",
    "from openpyxl.styles import Font\n",
    "from openpyxl.styles import Border, Side\n",
    "\n",
    "wb = openpyxl.Workbook()\n",
    "ws = wb.active\n",
    "\n",
    "for r_idx, row in enumerate(dataframe_to_rows(df, index=False, header=True), 1):\n",
    "    for c_idx, value in enumerate(row, 1):\n",
    "        ws.cell(row=r_idx, column=c_idx, value=value)\n",
    "\n",
    "for col in ws.columns:\n",
    "    max_length = 0\n",
    "    column = col[0].column_letter\n",
    "    for cell in col:\n",
    "        try: \n",
    "            if len(str(cell.value)) > max_length:\n",
    "                max_length = len(cell.value)\n",
    "        except:\n",
    "            pass\n",
    "    adjusted_width = (max_length + 2)\n",
    "    ws.column_dimensions[column].width = adjusted_width\n",
    "\n",
    "for r in range(1, len(df)+2):\n",
    "    if r == 1:\n",
    "        ws.cell(row=r, column=10, value=\"Accept/Reject/Maybe\")\n",
    "        ws.cell(row=r, column=10).alignment = Alignment(horizontal='center')\n",
    "        ws.cell(row=r, column=10).fill = PatternFill(start_color=\"00FF00\", end_color=\"00FF00\", fill_type = \"solid\")\n",
    "        ws.cell(row=r, column=10).font = Font(bold=True)\n",
    "    else:\n",
    "        ws.cell(row=r, column=10).alignment = Alignment(horizontal='center')\n",
    "        ws.cell(row=r, column=10).border = Border(left=Side(style='thin'), right=Side(style='thin'), top=Side(style='thin'), bottom=Side(style='thin'))\n",
    "\n",
    "start_row = 2\n",
    "end_row = 2\n",
    "while end_row <= len(df) + 1:\n",
    "    while end_row <= len(df) + 1 and ws.cell(row=end_row, column=1).value == ws.cell(row=end_row+1, column=1).value:\n",
    "        end_row += 1\n",
    "    if start_row != end_row:\n",
    "        print(start_row, end_row)\n",
    "        ws.merge_cells(start_row=start_row ,start_column=1, end_row=end_row, end_column=1)\n",
    "        ws.merge_cells(start_row=start_row ,start_column=2, end_row=end_row, end_column=2)\n",
    "        ws.merge_cells(start_row=start_row ,start_column=9, end_row=end_row, end_column=9)\n",
    "        ws.merge_cells(start_row=start_row ,start_column=10, end_row=end_row, end_column=10)\n",
    "        start_row = end_row + 1\n",
    "        end_row = start_row\n",
    "    else:\n",
    "        start_row += 1\n",
    "        end_row += 1\n",
    "\n",
    "wb.save(\"multi_results.xlsx\")\n"
   ]
  },
  {
   "cell_type": "code",
   "execution_count": 18,
   "metadata": {},
   "outputs": [],
   "source": [
    "class Color:\n",
    "    def __init__(self, cake):\n",
    "        self.cake = cake\n",
    "\n",
    "\n",
    "class Fruit:\n",
    "    def __init__(self, name:str, color: Color):\n",
    "        self.name = name\n",
    "        self.color =  color\n",
    "\n",
    "\n",
    "\n",
    "kwargs = {\"name\": \"apple\", \"color\": {\"cake\": \"red_velvent\"}}\n",
    "\n",
    "fruit = Fruit(**kwargs)"
   ]
  },
  {
   "cell_type": "code",
   "execution_count": 19,
   "metadata": {},
   "outputs": [
    {
     "data": {
      "text/plain": [
       "{'cake': 'red_velvent'}"
      ]
     },
     "execution_count": 19,
     "metadata": {},
     "output_type": "execute_result"
    }
   ],
   "source": [
    "fruit.color"
   ]
  },
  {
   "cell_type": "code",
   "execution_count": 20,
   "metadata": {},
   "outputs": [],
   "source": [
    "from dataclasses import dataclass"
   ]
  },
  {
   "cell_type": "code",
   "execution_count": 21,
   "metadata": {},
   "outputs": [],
   "source": [
    "@dataclass\n",
    "class Person:\n",
    "    name: str\n",
    "    age: int\n",
    "    job: str\n",
    "\n",
    "    def something(self):\n",
    "        print(self.name)"
   ]
  },
  {
   "cell_type": "code",
   "execution_count": 22,
   "metadata": {},
   "outputs": [],
   "source": [
    "chandra = Person(name=\"chandra\", age=28, job=\"Ml engineer\")"
   ]
  },
  {
   "cell_type": "code",
   "execution_count": 23,
   "metadata": {},
   "outputs": [
    {
     "name": "stdout",
     "output_type": "stream",
     "text": [
      "chandra\n"
     ]
    }
   ],
   "source": [
    "chandra.something()"
   ]
  },
  {
   "cell_type": "code",
   "execution_count": null,
   "metadata": {},
   "outputs": [],
   "source": []
  }
 ],
 "metadata": {
  "kernelspec": {
   "display_name": "lame-tool",
   "language": "python",
   "name": "python3"
  },
  "language_info": {
   "codemirror_mode": {
    "name": "ipython",
    "version": 3
   },
   "file_extension": ".py",
   "mimetype": "text/x-python",
   "name": "python",
   "nbconvert_exporter": "python",
   "pygments_lexer": "ipython3",
   "version": "3.11.7"
  }
 },
 "nbformat": 4,
 "nbformat_minor": 2
}
